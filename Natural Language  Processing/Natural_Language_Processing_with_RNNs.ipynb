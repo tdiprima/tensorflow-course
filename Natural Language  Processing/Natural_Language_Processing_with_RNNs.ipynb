{
 "cells": [
  {
   "cell_type": "markdown",
   "metadata": {
    "button": false,
    "deletable": true,
    "id": "h5cjtsHP8t5Y",
    "new_sheet": false,
    "run_control": {
     "read_only": false
    }
   },
   "source": [
    "# Natural Language Processing \n",
    "\n",
    "### PyTorch [Train a word-level language model using Recurrent LSTM networks](https://github.com/pytorch/examples/tree/main/word_language_model)\n",
    "\n",
    "Natural Language Processing (or NLP for short) is a discipline in computing that deals with the communication between natural (human) languages and computer languages. A common example of NLP is something like spellcheck or autocomplete. Essentially NLP is the field that focuses on how computers can understand and/or process natural/human languages. \n",
    "\n",
    "## Recurrent Neural Networks\n",
    "\n",
    "In this tutorial we will introduce a new kind of neural network that is much more capable of processing sequential data such as text or characters called a **recurrent neural network** (RNN for short). \n",
    "\n",
    "We will learn how to use a recurrent neural network to do the following:\n",
    "\n",
    "- Sentiment Analysis\n",
    "- Character Generation \n",
    "\n",
    "RNN's are complex and come in many different forms so in this tutorial we wil focus on how they work and the kind of problems they are best suited for."
   ]
  },
  {
   "cell_type": "markdown",
   "metadata": {
    "button": false,
    "deletable": true,
    "id": "ur_FQq-Q-fxC",
    "new_sheet": false,
    "run_control": {
     "read_only": false
    }
   },
   "source": [
    "## Sequence Data\n",
    "\n",
    "In the previous tutorials, we focused on data that we could represent as one static data point where the notion of time or step was irrelevant. Take for example our image data, it was simply a tensor of shape (width, height, channels). That data doesn't change or care about the notion of time. \n",
    "\n",
    "In this tutorial we will look at sequences of text and learn how we can encode them in a meaningful way. Unlike images, sequence data such as long chains of text, weather patterns, videos and really anything where the notion of a step or time is relevant needs to be processed and handled in a special way. \n",
    "\n",
    "But what do I mean by sequences and why is text data a sequence? Well that's a good question. Since textual data contains many words that follow in a very specific and meaningful order, we need to be able to keep track of each word and when it occurs in the data. Simply encoding say an entire paragraph of text into one data point wouldn't give us a very meaningful picture of the data and would be very difficult to do anything with. This is why we treat text as a sequence and process one word at a time. We will keep track of where each of these words appear and use that information to try to understand the meaning of pieces of text."
   ]
  },
  {
   "cell_type": "markdown",
   "metadata": {
    "button": false,
    "deletable": true,
    "id": "8gQHK4V4e2wl",
    "new_sheet": false,
    "run_control": {
     "read_only": false
    }
   },
   "source": [
    "## Encoding Text\n",
    "\n",
    "As we know, machine learning models and neural networks don't take raw text data as an input. This means we must somehow encode our textual data to numeric values that our models can understand. There are many different ways of doing this and we will look at a few examples below. \n",
    "\n",
    "Before we get into the different encoding/preprocessing methods let's understand the information we can get from textual data by looking at the following two movie reviews.\n",
    "\n",
    "```I thought the movie was going to be bad, but it was actually amazing!```\n",
    "\n",
    "```I thought the movie was going to be amazing, but it was actually bad!```\n",
    "\n",
    "Although these two sentences are very similar we know that they have very different meanings. This is because of the **ordering** of words, a very important property of textual data.\n",
    "\n",
    "Now keep that in mind while we consider some different ways of encoding our textual data.\n",
    "\n",
    "## Bag of Words\n",
    "\n",
    "The first and simplest way to encode our data is to use something called **bag of words**. This is a pretty easy technique where each word in a sentence is encoded with an integer and thrown into a collection that does not maintain the order of the words but does keep track of the frequency. Have a look at the python function below that encodes a string of text into bag of words. "
   ]
  },
  {
   "cell_type": "code",
   "execution_count": 1,
   "metadata": {
    "button": false,
    "colab": {
     "base_uri": "https://localhost:8080/"
    },
    "collapsed": false,
    "deletable": true,
    "id": "5KiCCBsIkMHi",
    "new_sheet": false,
    "outputId": "aed05205-5ca6-4dfd-ca05-1ecf98d2dac5",
    "run_control": {
     "read_only": false
    }
   },
   "outputs": [
    {
     "name": "stdout",
     "output_type": "stream",
     "text": [
      "\n",
      "Bag of words:\n",
      "\n",
      "{1: 2, 2: 3, 3: 3, 4: 3, 5: 1, 6: 1, 7: 1, 8: 1, 9: 1}\n",
      "\n",
      "Map word to integer:\n",
      "\n",
      "{'a': 3,\n",
      " 'if': 7,\n",
      " 'is': 2,\n",
      " 'see': 6,\n",
      " 'test': 4,\n",
      " 'this': 1,\n",
      " 'to': 5,\n",
      " 'will': 8,\n",
      " 'work': 9}\n"
     ]
    }
   ],
   "source": [
    "vocab = {}  # Map word to integer representing it\n",
    "word_encoding = 1\n",
    "\n",
    "\n",
    "def bag_of_words(text):\n",
    "    global word_encoding\n",
    "\n",
    "    # Create a list of all the words in the text, we'll assume there is no grammar in our text for this example\n",
    "    words = text.lower().split(\" \")\n",
    "\n",
    "    # Store all the encodings and their frequency\n",
    "    bag = {}\n",
    "\n",
    "    for word in words:\n",
    "        if word in vocab:\n",
    "            encoding = vocab[word]  # Get encoding from vocab\n",
    "        else:\n",
    "            vocab[word] = word_encoding\n",
    "            encoding = word_encoding\n",
    "            word_encoding += 1\n",
    "\n",
    "        if encoding in bag:\n",
    "            bag[encoding] += 1\n",
    "        else:\n",
    "            bag[encoding] = 1\n",
    "\n",
    "    return bag\n",
    "\n",
    "\n",
    "text = \"this is a test to see if this test will work is is test a a\"\n",
    "bag = bag_of_words(text)\n",
    "\n",
    "import pprint as pp\n",
    "\n",
    "print(\"\\nBag of words:\\n\")\n",
    "pp.pprint(bag)\n",
    "\n",
    "print(\"\\nMap word to integer:\\n\")\n",
    "pp.pprint(vocab)"
   ]
  },
  {
   "cell_type": "markdown",
   "metadata": {
    "button": false,
    "deletable": true,
    "id": "4hEvstSBl1gy",
    "new_sheet": false,
    "run_control": {
     "read_only": false
    }
   },
   "source": [
    "This isn't the way we would do this in practice, but I hope it gives you an idea of how bag of words works.\n",
    "\n",
    "Notice that we've lost the order in which words appear.\n",
    "\n",
    "Let's look at how this encoding works for the two sentences we showed above."
   ]
  },
  {
   "cell_type": "code",
   "execution_count": 2,
   "metadata": {
    "button": false,
    "colab": {
     "base_uri": "https://localhost:8080/"
    },
    "collapsed": false,
    "deletable": true,
    "id": "miYshfvzmJ0H",
    "new_sheet": false,
    "outputId": "7a543d70-5257-4e29-bc47-97ead9d15ab1",
    "run_control": {
     "read_only": false
    }
   },
   "outputs": [
    {
     "name": "stdout",
     "output_type": "stream",
     "text": [
      "\n",
      "Positive:\n",
      " {10: 1, 11: 1, 12: 1, 13: 1, 14: 2, 15: 1, 5: 1, 16: 1, 17: 1, 18: 1, 19: 1, 20: 1, 21: 1}\n",
      "\n",
      "Negative:\n",
      " {10: 1, 11: 1, 12: 1, 13: 1, 14: 2, 15: 1, 5: 1, 16: 1, 21: 1, 18: 1, 19: 1, 20: 1, 17: 1}\n"
     ]
    }
   ],
   "source": [
    "positive_review = \"I thought the movie was going to be bad but it was actually amazing\"\n",
    "negative_review = \"I thought the movie was going to be amazing but it was actually bad\"\n",
    "\n",
    "pos_bag = bag_of_words(positive_review)\n",
    "neg_bag = bag_of_words(negative_review)\n",
    "\n",
    "print(\"\\nPositive:\\n\", pos_bag)\n",
    "print(\"\\nNegative:\\n\", neg_bag)\n",
    "\n",
    "# They're almost the same."
   ]
  },
  {
   "cell_type": "markdown",
   "metadata": {
    "button": false,
    "deletable": true,
    "id": "Pl7Fw9s3mkfK",
    "new_sheet": false,
    "run_control": {
     "read_only": false
    }
   },
   "source": [
    "We can see that even though these sentences have a very different meaning they are encoded exactly the same way. \n",
    "\n",
    "<span style=\"color:red;\">See if they're the same in Tim's example.</span>\n",
    "\n",
    "Obviously, this isn't going to fly. Let's look at some other methods.\n",
    "\n",
    "## Integer Encoding\n",
    "\n",
    "The next technique we will look at is called **integer encoding**. This involves representing each word or character in a sentence as a unique integer and maintaining the order of these words. This should hopefully fix the problem we saw before were we lost the order of words."
   ]
  },
  {
   "cell_type": "code",
   "execution_count": 3,
   "metadata": {
    "button": false,
    "colab": {
     "base_uri": "https://localhost:8080/"
    },
    "collapsed": false,
    "deletable": true,
    "id": "MKY4y_tjnUEW",
    "new_sheet": false,
    "outputId": "f08202c3-a5f3-4ac7-abd8-8fc47a7ed8fe",
    "run_control": {
     "read_only": false
    }
   },
   "outputs": [
    {
     "name": "stdout",
     "output_type": "stream",
     "text": [
      "\n",
      "One-Hot Encoding:\n",
      " [1, 2, 3, 4, 5, 6, 7, 1, 4, 8, 9, 2, 2, 4, 3, 3]\n",
      "\n",
      "Vocab:\n",
      " {'this': 1, 'is': 2, 'a': 3, 'test': 4, 'to': 5, 'see': 6, 'if': 7, 'will': 8, 'work': 9}\n"
     ]
    }
   ],
   "source": [
    "# WE'VE KEPT THE ORDERING IN THIS ONE\n",
    "vocab = {}\n",
    "word_encoding = 1\n",
    "\n",
    "\n",
    "def one_hot_encoding(text):\n",
    "    global word_encoding\n",
    "\n",
    "    words = text.lower().split(\" \")\n",
    "    encoding = []  # Instead of putting it in a map, put it in a list this time.\n",
    "\n",
    "    for word in words:\n",
    "        if word in vocab:\n",
    "            code = vocab[word]\n",
    "            encoding.append(code)\n",
    "        else:\n",
    "            vocab[word] = word_encoding\n",
    "            encoding.append(word_encoding)\n",
    "            word_encoding += 1\n",
    "\n",
    "    return encoding\n",
    "\n",
    "\n",
    "text = \"this is a test to see if this test will work is is test a a\"\n",
    "encoding = one_hot_encoding(text)\n",
    "\n",
    "print(\"\\nOne-Hot Encoding:\\n\", encoding)\n",
    "print(\"\\nVocab:\\n\", vocab)\n"
   ]
  },
  {
   "cell_type": "markdown",
   "metadata": {
    "button": false,
    "deletable": true,
    "id": "TOrLG9Bin0Zv",
    "new_sheet": false,
    "run_control": {
     "read_only": false
    }
   },
   "source": [
    "And now let's have a look at one hot encoding on our movie reviews."
   ]
  },
  {
   "cell_type": "code",
   "execution_count": 4,
   "metadata": {
    "button": false,
    "colab": {
     "base_uri": "https://localhost:8080/"
    },
    "collapsed": false,
    "deletable": true,
    "id": "1S-GNjotn-Br",
    "new_sheet": false,
    "outputId": "2658894b-7859-4a11-fd77-02290dad8c04",
    "run_control": {
     "read_only": false
    }
   },
   "outputs": [
    {
     "name": "stdout",
     "output_type": "stream",
     "text": [
      "Positive: [10, 11, 12, 13, 14, 15, 5, 16, 17, 18, 19, 14, 20, 21]\n",
      "Negative: [10, 11, 12, 13, 14, 15, 5, 16, 21, 18, 19, 14, 20, 17]\n"
     ]
    }
   ],
   "source": [
    "positive_review = \"I thought the movie was going to be bad but it was actually amazing\"\n",
    "negative_review = \"I thought the movie was going to be amazing but it was actually bad\"\n",
    "\n",
    "pos_encode = one_hot_encoding(positive_review)\n",
    "neg_encode = one_hot_encoding(negative_review)\n",
    "\n",
    "print(\"Positive:\", pos_encode)\n",
    "print(\"Negative:\", neg_encode)"
   ]
  },
  {
   "cell_type": "markdown",
   "metadata": {
    "button": false,
    "deletable": true,
    "id": "jC9UYV4vpq6Y",
    "new_sheet": false,
    "run_control": {
     "read_only": false
    }
   },
   "source": [
    "## Similar words, similar labels\n",
    "\n",
    "Much better, now we are keeping track of the order of words and we can tell where each occurs. But this still has a few issues with it.\n",
    "\n",
    "Ideally when we encode words, we would like **similar words to have similar labels** and different words to have very different labels. \n",
    "\n",
    "For example, the words **happy** and **joyful** should probably have very similar labels so we can determine that they are similar. While words like horrible and amazing should probably have very different labels. \n",
    "\n",
    "The method we looked at above won't be able to do something like this for us. This could mean that the model will have a very difficult time determining if two words are similar or not, which could result in some pretty drastic performance impacts."
   ]
  },
  {
   "cell_type": "markdown",
   "metadata": {
    "button": false,
    "deletable": true,
    "id": "JRZ73YCqqiw9",
    "new_sheet": false,
    "run_control": {
     "read_only": false
    }
   },
   "source": [
    "## Word Embeddings\n",
    "\n",
    "Luckily, there is a third method that is far superior, **word embeddings**. This method keeps the order of words intact as well as encodes similar words with very similar labels. It attempts to not only encode the frequency and order of words but the meaning of those words in the sentence. It encodes each word as a dense vector that represents its context in the sentence.\n",
    "\n",
    "Unlike the previous techniques, word embeddings are learned by looking at many different training examples. You can add what's called an *embedding layer* to the beginning of your model, and while your model trains your embedding layer will learn the correct embeddings for words. You can also use pre-trained embedding layers."
   ]
  },
  {
   "cell_type": "markdown",
   "metadata": {
    "button": false,
    "deletable": true,
    "id": "ehig3qliuUzk",
    "new_sheet": false,
    "run_control": {
     "read_only": false
    }
   },
   "source": [
    "# RNN (Recurrent Neural Network)\n",
    "\n",
    "Now that we've learned a little bit about how we can encode text, it's time to dive into recurrent neural networks. Up until this point we have been using something called **feed-forward** neural networks. This simply means that all our data is fed forwards (all at once) from left to right through the network. This was fine for the problems we considered before but won't work very well for processing text. After all, even we (humans) don't process text all at once. We read word by word from left to right and keep track of the current meaning of the sentence so we can understand the meaning of the next word. Well this is exactly what a recurrent neural network is designed to do. When we say recurrent neural network, all we really mean is a network that contains a loop. A RNN will process one word at a time while maintaining an internal memory of what it's already seen. This will allow it to treat words differently based on their order in a sentence and to slowly build an understanding of the entire input, one word at a time.\n",
    "\n",
    "This is why we are treating our text data as a sequence! So that we can pass one word at a time to the RNN.\n",
    "\n",
    "Let's have a look at what a recurrent layer might look like.\n",
    "\n",
    "![alt text](https://colah.github.io/posts/2015-08-Understanding-LSTMs/img/RNN-unrolled.png)\n",
    "*Source: https://colah.github.io/posts/2015-08-Understanding-LSTMs/*\n",
    "\n",
    "Let's define what all these variables stand for before we get into the explanation.\n",
    "\n",
    "**h<sub>t</sub>** output at time t\n",
    "\n",
    "**x<sub>t</sub>** input at time t\n",
    "\n",
    "**A** Recurrent Layer (loop)\n",
    "\n",
    "What this diagram is trying to illustrate is that a recurrent layer processes words or input one at a time in a combination with the output from the previous iteration. So, as we progress further in the input sequence, we build a more complex understanding of the text as a whole.\n",
    "\n",
    "What we've just looked at is called a <mark>**simple RNN layer.**</mark> It can be effective at processing shorter sequences of text for simple problems but has many downfalls associated with it. One of them being the fact that as text sequences get longer, it gets increasingly difficult for the network to understand the text properly."
   ]
  },
  {
   "cell_type": "markdown",
   "metadata": {
    "button": false,
    "deletable": true,
    "id": "Fo3WY-e86zX2",
    "new_sheet": false,
    "run_control": {
     "read_only": false
    }
   },
   "source": [
    "# LSTM (Long Short-Term Memory)\n",
    "\n",
    "The layer we discussed in depth above was called a *simpleRNN*. However, there does exist some other recurrent layers (layers that contain a loop) that work much better than a simple RNN layer. The one we will talk about here is called LSTM (Long Short-Term Memory). This layer works very similarly to the simpleRNN layer but adds a way to access inputs from any time-step in the past. Whereas in our simple RNN layer input from previous timestamps gradually disappeared as we got further through the input. With a LSTM we have a long-term memory data structure storing all the previously seen inputs as well as when we saw them. This allows for us to access any previous value we want at any point in time. This adds to the complexity of our network and allows it to discover more useful relationships between inputs and when they appear."
   ]
  },
  {
   "cell_type": "markdown",
   "metadata": {
    "button": false,
    "deletable": true,
    "id": "CRGOx6_v4eZ_",
    "new_sheet": false,
    "run_control": {
     "read_only": false
    }
   },
   "source": [
    "# Sentiment Analysis\n",
    "\n",
    "It's time to see a recurrent neural network in action. For this example, we are going to do something called sentiment analysis.\n",
    "\n",
    "The formal definition of this term from Wikipedia is as follows:\n",
    "\n",
    "*The process of computationally identifying and categorizing opinions expressed in a piece of text, especially in order to determine whether the writer's attitude towards a particular topic, product, etc. is positive, negative, or neutral.*\n",
    "\n",
    "The example we'll use here is classifying movie reviews as either positive, negative or neutral.\n",
    "\n",
    "*This guide is based on the following TensorFlow tutorial: https://www.tensorflow.org/tutorials/text/text_classification_rnn*"
   ]
  },
  {
   "cell_type": "markdown",
   "metadata": {
    "button": false,
    "deletable": true,
    "id": "RACGE5Ypt5u9",
    "new_sheet": false,
    "run_control": {
     "read_only": false
    }
   },
   "source": [
    "## Movie Review Dataset\n",
    "\n",
    "We'll start by loading the IMDB movie review dataset from Keras. This dataset contains 25,000 reviews from IMDB, where each one is already preprocessed and has a label as either positive or negative. Each review is encoded by integers that represent how common a word is in the entire dataset. For example, a word encoded by the integer 3 means that it is the 3rd most common word in the dataset."
   ]
  },
  {
   "cell_type": "code",
   "execution_count": 5,
   "metadata": {
    "button": false,
    "colab": {
     "base_uri": "https://localhost:8080/"
    },
    "collapsed": false,
    "deletable": true,
    "id": "pdsus1kyXWC8",
    "new_sheet": false,
    "outputId": "35461651-5f9e-4dd0-acac-86a026110812",
    "run_control": {
     "read_only": false
    }
   },
   "outputs": [
    {
     "name": "stdout",
     "output_type": "stream",
     "text": [
      "Downloading data from https://storage.googleapis.com/tensorflow/tf-keras-datasets/imdb.npz\n",
      "17464789/17464789 [==============================] - 2s 0us/step\n"
     ]
    }
   ],
   "source": [
    "# DATA IS FROM KERAS\n",
    "from keras.datasets import imdb\n",
    "from keras.preprocessing import sequence\n",
    "import keras\n",
    "import tensorflow as tf\n",
    "import os\n",
    "import numpy as np\n",
    "\n",
    "VOCAB_SIZE = 88584\n",
    "\n",
    "MAXLEN = 250\n",
    "BATCH_SIZE = 64\n",
    "\n",
    "(train_data, train_labels), (test_data, test_labels) = imdb.load_data(num_words=VOCAB_SIZE)"
   ]
  },
  {
   "cell_type": "code",
   "execution_count": 6,
   "metadata": {
    "button": false,
    "colab": {
     "base_uri": "https://localhost:8080/"
    },
    "collapsed": false,
    "deletable": true,
    "id": "Wh6lOpcQ9sIZ",
    "new_sheet": false,
    "outputId": "efd9146d-7236-4879-fc45-843ddb6a78bd",
    "run_control": {
     "read_only": false
    }
   },
   "outputs": [
    {
     "data": {
      "text/plain": [
       "189"
      ]
     },
     "execution_count": 6,
     "metadata": {},
     "output_type": "execute_result"
    }
   ],
   "source": [
    "# Lets look at one review\n",
    "# train_data[1]\n",
    "len(train_data[1])"
   ]
  },
  {
   "cell_type": "markdown",
   "metadata": {
    "button": false,
    "deletable": true,
    "id": "EAtZHE9-eQ07",
    "new_sheet": false,
    "run_control": {
     "read_only": false
    }
   },
   "source": [
    "## More Preprocessing\n",
    "\n",
    "If we have a look at some of our reviews, we'll notice that they are different lengths. This is an issue. We cannot pass different length data into our neural network. Therefore, we must make each review the same length. To do this we will follow the procedure below:\n",
    "\n",
    "- If the review is greater than 250 words, trim off the extra words\n",
    "- If the review is less than 250 words, add the necessary amount of 0's to make it equal to 250.\n",
    "\n",
    "Keras's **`pad_sequences` function** can do this for us:"
   ]
  },
  {
   "cell_type": "code",
   "execution_count": 7,
   "metadata": {
    "button": false,
    "collapsed": true,
    "deletable": true,
    "id": "Z3qQ83sNeog6",
    "new_sheet": false,
    "run_control": {
     "read_only": false
    }
   },
   "outputs": [],
   "source": [
    "from keras.utils import pad_sequences\n",
    "\n",
    "train_data = keras.utils.pad_sequences(train_data, maxlen=MAXLEN)\n",
    "test_data = keras.utils.pad_sequences(test_data, maxlen=MAXLEN)"
   ]
  },
  {
   "cell_type": "markdown",
   "metadata": {
    "button": false,
    "deletable": true,
    "id": "mDm_0RTVir7I",
    "new_sheet": false,
    "run_control": {
     "read_only": false
    }
   },
   "source": [
    "## Creating the Model\n",
    "\n",
    "Now it's time to create the model. We'll use a word embedding layer as the first layer in our model and add a LSTM layer afterwards that feeds into a dense node to get our predicted sentiment. \n",
    "\n",
    "32 stands for the output dimension of the vectors generated by the embedding layer. We can change this value if we'd like!"
   ]
  },
  {
   "cell_type": "code",
   "execution_count": 8,
   "metadata": {
    "button": false,
    "colab": {
     "base_uri": "https://localhost:8080/"
    },
    "collapsed": false,
    "deletable": true,
    "id": "OWGGcBIpjrMu",
    "new_sheet": false,
    "outputId": "1cc77789-cdcd-41dd-a3f1-3a8486912795",
    "run_control": {
     "read_only": false
    }
   },
   "outputs": [
    {
     "name": "stdout",
     "output_type": "stream",
     "text": [
      "Model: \"sequential\"\n",
      "_________________________________________________________________\n",
      " Layer (type)                Output Shape              Param #   \n",
      "=================================================================\n",
      " embedding (Embedding)       (None, None, 32)          2834688   \n",
      "                                                                 \n",
      " lstm (LSTM)                 (None, 32)                8320      \n",
      "                                                                 \n",
      " dense (Dense)               (None, 1)                 33        \n",
      "                                                                 \n",
      "=================================================================\n",
      "Total params: 2,843,041\n",
      "Trainable params: 2,843,041\n",
      "Non-trainable params: 0\n",
      "_________________________________________________________________\n"
     ]
    }
   ],
   "source": [
    "model = tf.keras.Sequential([\n",
    "    tf.keras.layers.Embedding(VOCAB_SIZE, 32),  # word embedding layer\n",
    "    tf.keras.layers.LSTM(32),  # LSTM layer\n",
    "    tf.keras.layers.Dense(1, activation=\"sigmoid\")  # dense node => predicted sentiment\n",
    "])\n",
    "\n",
    "model.summary()"
   ]
  },
  {
   "cell_type": "markdown",
   "metadata": {
    "button": false,
    "deletable": true,
    "id": "eyeQCk3LlK6V",
    "new_sheet": false,
    "run_control": {
     "read_only": false
    }
   },
   "source": [
    "## Training\n",
    "Now it's time to compile and train the model. "
   ]
  },
  {
   "cell_type": "code",
   "execution_count": 9,
   "metadata": {
    "button": false,
    "colab": {
     "base_uri": "https://localhost:8080/"
    },
    "collapsed": false,
    "deletable": true,
    "id": "KKEMjaIulPBe",
    "new_sheet": false,
    "outputId": "3ad913a7-d7fa-43da-989c-d5a6971d6e6d",
    "run_control": {
     "read_only": false
    }
   },
   "outputs": [
    {
     "name": "stdout",
     "output_type": "stream",
     "text": [
      "Epoch 1/10\n",
      "625/625 [==============================] - 67s 96ms/step - loss: 0.4596 - acc: 0.7740 - val_loss: 0.3187 - val_acc: 0.8652\n",
      "Epoch 2/10\n",
      "625/625 [==============================] - 24s 38ms/step - loss: 0.2623 - acc: 0.8961 - val_loss: 0.2965 - val_acc: 0.8778\n",
      "Epoch 3/10\n",
      "625/625 [==============================] - 15s 24ms/step - loss: 0.2036 - acc: 0.9264 - val_loss: 0.2861 - val_acc: 0.8868\n",
      "Epoch 4/10\n",
      "625/625 [==============================] - 11s 18ms/step - loss: 0.1622 - acc: 0.9422 - val_loss: 0.4301 - val_acc: 0.8652\n",
      "Epoch 5/10\n",
      "625/625 [==============================] - 10s 16ms/step - loss: 0.1365 - acc: 0.9533 - val_loss: 0.2946 - val_acc: 0.8802\n",
      "Epoch 6/10\n",
      "625/625 [==============================] - 8s 13ms/step - loss: 0.1171 - acc: 0.9610 - val_loss: 0.3978 - val_acc: 0.8490\n",
      "Epoch 7/10\n",
      "625/625 [==============================] - 10s 15ms/step - loss: 0.0950 - acc: 0.9686 - val_loss: 0.3381 - val_acc: 0.8704\n",
      "Epoch 8/10\n",
      "625/625 [==============================] - 8s 13ms/step - loss: 0.0812 - acc: 0.9753 - val_loss: 0.3867 - val_acc: 0.8810\n",
      "Epoch 9/10\n",
      "625/625 [==============================] - 8s 13ms/step - loss: 0.0696 - acc: 0.9774 - val_loss: 0.3894 - val_acc: 0.8802\n",
      "Epoch 10/10\n",
      "625/625 [==============================] - 7s 11ms/step - loss: 0.0580 - acc: 0.9818 - val_loss: 0.4558 - val_acc: 0.8790\n"
     ]
    }
   ],
   "source": [
    "# Loss function: binary cross-entropy\n",
    "# Optimizer: RMSProp (Root Mean Squared Propagation); similar to the gradient descent algorithm with momentum.\n",
    "# Metrics: accuracy\n",
    "\n",
    "model.compile(loss=\"binary_crossentropy\", optimizer=\"rmsprop\", metrics=['acc'])\n",
    "\n",
    "history = model.fit(train_data, train_labels, epochs=10, validation_split=0.2)"
   ]
  },
  {
   "cell_type": "markdown",
   "metadata": {
    "button": false,
    "deletable": true,
    "id": "3buYlkkhoK93",
    "new_sheet": false,
    "run_control": {
     "read_only": false
    }
   },
   "source": [
    "And we'll evaluate the model on our training data to see how well it performs."
   ]
  },
  {
   "cell_type": "code",
   "execution_count": 10,
   "metadata": {
    "button": false,
    "colab": {
     "base_uri": "https://localhost:8080/"
    },
    "collapsed": false,
    "deletable": true,
    "id": "KImNMWTDoJaQ",
    "new_sheet": false,
    "outputId": "5eba8f12-8954-4c04-b0d5-219db8146485",
    "run_control": {
     "read_only": false
    }
   },
   "outputs": [
    {
     "name": "stdout",
     "output_type": "stream",
     "text": [
      "782/782 [==============================] - 4s 6ms/step - loss: 0.5239 - acc: 0.8621\n"
     ]
    },
    {
     "data": {
      "text/plain": [
       "[0.5239357352256775, 0.8621199727058411]"
      ]
     },
     "execution_count": 10,
     "metadata": {},
     "output_type": "execute_result"
    }
   ],
   "source": [
    "results = model.evaluate(test_data, test_labels)\n",
    "\n",
    "results"
   ]
  },
  {
   "cell_type": "markdown",
   "metadata": {
    "button": false,
    "deletable": true,
    "id": "N1RRGcr9CFCW",
    "new_sheet": false,
    "run_control": {
     "read_only": false
    }
   },
   "source": [
    "So we're scoring somewhere in the mid-high 80's. Not bad for a simple recurrent network."
   ]
  },
  {
   "cell_type": "markdown",
   "metadata": {
    "button": false,
    "deletable": true,
    "id": "lGrBRC4YCObV",
    "new_sheet": false,
    "run_control": {
     "read_only": false
    }
   },
   "source": [
    "## Making Predictions\n",
    "\n",
    "Let's use our network to make predictions on our own reviews. \n",
    "\n",
    "Since our reviews are encoded, we'll need to convert any review that we write into that form, so the network can understand it.\n",
    "\n",
    "To do that, we'll load the encodings from the dataset, and use them to encode our own data."
   ]
  },
  {
   "cell_type": "code",
   "execution_count": 11,
   "metadata": {
    "button": false,
    "colab": {
     "base_uri": "https://localhost:8080/"
    },
    "collapsed": false,
    "deletable": true,
    "id": "Onu8leY4Cn9z",
    "new_sheet": false,
    "outputId": "da93d22d-9f3e-4448-c9e2-2b80fdece8a6",
    "run_control": {
     "read_only": false
    }
   },
   "outputs": [
    {
     "name": "stdout",
     "output_type": "stream",
     "text": [
      "Downloading data from https://storage.googleapis.com/tensorflow/tf-keras-datasets/imdb_word_index.json\n",
      "1641221/1641221 [==============================] - 1s 1us/step\n",
      "1 ['that', 'movie', 'was', 'just', 'amazing', 'so', 'amazing']\n",
      "2 [12, 17, 13, 40, 477, 35, 477]\n"
     ]
    }
   ],
   "source": [
    "word_index = imdb.get_word_index()\n",
    "\n",
    "\n",
    "def encode_text(text):\n",
    "    tokens = keras.preprocessing.text.text_to_word_sequence(text)\n",
    "    print(\"1\", tokens)  # len: 7\n",
    "\n",
    "    tokens = [word_index[word] if word in word_index else 0 for word in tokens]\n",
    "    print(\"2\", tokens)\n",
    "\n",
    "    return keras.utils.pad_sequences([tokens], MAXLEN)[0]\n",
    "\n",
    "\n",
    "text = \"that movie was just amazing, so amazing\"\n",
    "encoded = encode_text(text)\n",
    "\n",
    "# encoded  # len: 250"
   ]
  },
  {
   "cell_type": "code",
   "execution_count": 12,
   "metadata": {
    "button": false,
    "colab": {
     "base_uri": "https://localhost:8080/",
     "height": 36
    },
    "collapsed": false,
    "deletable": true,
    "id": "PKna3vxmFwrB",
    "new_sheet": false,
    "outputId": "4a8a1c40-9dcb-4b75-a4bc-d86e2ce29fa5",
    "run_control": {
     "read_only": false
    }
   },
   "outputs": [
    {
     "data": {
      "application/vnd.google.colaboratory.intrinsic+json": {
       "type": "string"
      },
      "text/plain": [
       "'that movie was just amazing so amazing'"
      ]
     },
     "execution_count": 12,
     "metadata": {},
     "output_type": "execute_result"
    }
   ],
   "source": [
    "reverse_word_index = {value: key for (key, value) in word_index.items()}\n",
    "\n",
    "\n",
    "def decode_integers(integers):\n",
    "    \"\"\"\n",
    "    While we're at it, let's make a decode function.\n",
    "    \"\"\"\n",
    "    PAD = 0\n",
    "    text = \"\"\n",
    "    for num in integers:\n",
    "        if num != PAD:\n",
    "            text += reverse_word_index[num] + \" \"\n",
    "\n",
    "    return text[:-1]\n",
    "\n",
    "\n",
    "decode_integers(encoded)"
   ]
  },
  {
   "cell_type": "code",
   "execution_count": 13,
   "metadata": {
    "button": false,
    "colab": {
     "base_uri": "https://localhost:8080/"
    },
    "collapsed": false,
    "deletable": true,
    "id": "L8nyrr00HPZF",
    "new_sheet": false,
    "outputId": "2add4b1f-c4bf-4cc0-a2d2-e8746d5210d5",
    "run_control": {
     "read_only": false
    }
   },
   "outputs": [
    {
     "name": "stdout",
     "output_type": "stream",
     "text": [
      "1 ['that', 'movie', 'was', 'really', 'loved', 'it', 'and', 'would', 'great', 'watch', 'it', 'again', 'because', 'it', 'was', 'amazingly', 'great']\n",
      "2 [12, 17, 13, 63, 444, 9, 2, 59, 84, 103, 9, 171, 85, 9, 13, 2786, 84]\n",
      "1/1 [==============================] - 0s 351ms/step\n",
      "[0.8297435]\n",
      "\n",
      "1 ['that', 'movie', 'really', 'sucked', 'i', 'hated', 'it', 'and', \"wouldn't\", 'watch', 'it', 'again', 'was', 'one', 'of', 'the', 'worst', 'things', \"i've\", 'ever', 'watched']\n",
      "2 [12, 17, 63, 2064, 10, 1797, 9, 2, 583, 103, 9, 171, 13, 28, 4, 1, 246, 180, 204, 123, 293]\n",
      "1/1 [==============================] - 0s 19ms/step\n",
      "[0.11970372]\n"
     ]
    }
   ],
   "source": [
    "def predict(text):\n",
    "    \"\"\"\n",
    "    Make a prediction\n",
    "    \"\"\"\n",
    "    encoded_text = encode_text(text)\n",
    "    pred = np.zeros((1, 250))\n",
    "    pred[0] = encoded_text\n",
    "    result = model.predict(pred)\n",
    "    print(result[0])\n",
    "\n",
    "\n",
    "positive_review = \"That movie was! really loved it and would great watch it again because it was amazingly great\"\n",
    "predict(positive_review)\n",
    "\n",
    "print()\n",
    "\n",
    "negative_review = \"that movie really sucked. I hated it and wouldn't watch it again. Was one of the worst things I've ever watched\"\n",
    "predict(negative_review)"
   ]
  },
  {
   "cell_type": "markdown",
   "metadata": {
    "button": false,
    "deletable": true,
    "id": "01BJLcGb4ZqK",
    "new_sheet": false,
    "run_control": {
     "read_only": false
    }
   },
   "source": [
    "## Generate a Play with RNN\n",
    "\n",
    "Time for one of the coolest examples we've seen so far. We are going to use a RNN to generate a play.\n",
    "\n",
    "We will simply show the RNN an example of something we want it to recreate, and it will learn how to write a version of it on its own. \n",
    "\n",
    "We'll do this using a character predictive model that will take as input a variable length sequence and predict the next character. \n",
    "\n",
    "We can use the model many times in a row with the output from the last prediction as the input for the next call to generate a sequence.\n",
    "\n",
    "\n",
    "*Based on: https://www.tensorflow.org/tutorials/text/text_generation*"
   ]
  },
  {
   "cell_type": "code",
   "execution_count": 14,
   "metadata": {
    "button": false,
    "collapsed": true,
    "deletable": true,
    "id": "fju7i1FKrK_G",
    "new_sheet": false,
    "run_control": {
     "read_only": false
    }
   },
   "outputs": [],
   "source": [
    "from keras.preprocessing import sequence\n",
    "import keras\n",
    "import tensorflow as tf\n",
    "import os\n",
    "import numpy as np"
   ]
  },
  {
   "cell_type": "markdown",
   "metadata": {
    "button": false,
    "deletable": true,
    "id": "F48c-EctQ378",
    "new_sheet": false,
    "run_control": {
     "read_only": false
    }
   },
   "source": [
    "## Dataset\n",
    "\n",
    "For this example, we only need one piece of training data. In fact, we can write our own poem or play and pass that to the network for training if we'd like. However, to make things easy we'll use an extract from a Shakespeare play."
   ]
  },
  {
   "cell_type": "code",
   "execution_count": 15,
   "metadata": {
    "button": false,
    "colab": {
     "base_uri": "https://localhost:8080/"
    },
    "collapsed": false,
    "deletable": true,
    "id": "IdRcVIhtRGlF",
    "new_sheet": false,
    "outputId": "0115a99c-4756-4700-ccaa-6232e1c63ab1",
    "run_control": {
     "read_only": false
    }
   },
   "outputs": [
    {
     "name": "stdout",
     "output_type": "stream",
     "text": [
      "Downloading data from https://storage.googleapis.com/download.tensorflow.org/data/shakespeare.txt\n",
      "1115394/1115394 [==============================] - 0s 0us/step\n"
     ]
    }
   ],
   "source": [
    "path_to_file = tf.keras.utils.get_file('shakespeare.txt', 'https://storage.googleapis.com/download.tensorflow.org/data/shakespeare.txt')"
   ]
  },
  {
   "cell_type": "markdown",
   "metadata": {
    "button": false,
    "deletable": true,
    "id": "NlSVGd5ACkZe",
    "new_sheet": false,
    "run_control": {
     "read_only": false
    }
   },
   "source": [
    "## Loading Your Own Data\n",
    "\n",
    "Upload a file from the dialog below.\n",
    "\n",
    "Then follow the steps from above, but load in this new file instead."
   ]
  },
  {
   "cell_type": "code",
   "execution_count": 16,
   "metadata": {
    "button": false,
    "collapsed": true,
    "deletable": true,
    "id": "CFYFwbJOC3bP",
    "new_sheet": false,
    "run_control": {
     "read_only": false
    }
   },
   "outputs": [],
   "source": [
    "# from google.colab import files\n",
    "# path_to_file = list(files.upload().keys())[0]"
   ]
  },
  {
   "cell_type": "markdown",
   "metadata": {
    "button": false,
    "deletable": true,
    "id": "KtJMEqQyRhAk",
    "new_sheet": false,
    "run_control": {
     "read_only": false
    }
   },
   "source": [
    "## Read Contents of File\n",
    "Let's look at the contents of the file."
   ]
  },
  {
   "cell_type": "code",
   "execution_count": 17,
   "metadata": {
    "button": false,
    "colab": {
     "base_uri": "https://localhost:8080/"
    },
    "collapsed": false,
    "deletable": true,
    "id": "-n4oovOMRnP7",
    "new_sheet": false,
    "outputId": "05b2384b-3b9d-425d-eab5-a5ba180baa51",
    "run_control": {
     "read_only": false
    }
   },
   "outputs": [
    {
     "name": "stdout",
     "output_type": "stream",
     "text": [
      "\n",
      "Length of text: 1115394 characters\n"
     ]
    }
   ],
   "source": [
    "# Read, then decode for py2 compat.\n",
    "text = open(path_to_file, 'rb').read().decode(encoding='utf-8')\n",
    "\n",
    "# Length of text: the number of characters in it\n",
    "print('\\nLength of text: {} characters'.format(len(text)))"
   ]
  },
  {
   "cell_type": "code",
   "execution_count": 18,
   "metadata": {
    "button": false,
    "colab": {
     "base_uri": "https://localhost:8080/"
    },
    "collapsed": false,
    "deletable": true,
    "id": "KHUxQVl7Rt10",
    "new_sheet": false,
    "outputId": "754b915b-67f8-4c19-dd5b-d2a5d51343e5",
    "run_control": {
     "read_only": false
    }
   },
   "outputs": [
    {
     "name": "stdout",
     "output_type": "stream",
     "text": [
      "First Citizen:\n",
      "Before we proceed any further, hear me speak.\n",
      "\n",
      "All:\n",
      "Speak, speak.\n",
      "\n",
      "First Citizen:\n",
      "You are all resolved rather to die than to famish?\n",
      "\n",
      "All:\n",
      "Resolved. resolved.\n",
      "\n",
      "First Citizen:\n",
      "First, you know Caius Marcius is chief enemy to the people.\n",
      "\n"
     ]
    }
   ],
   "source": [
    "# Take a look at the first 250 characters in text\n",
    "print(text[:250])"
   ]
  },
  {
   "cell_type": "markdown",
   "metadata": {
    "button": false,
    "deletable": true,
    "id": "5vt8Vpe0RvaJ",
    "new_sheet": false,
    "run_control": {
     "read_only": false
    }
   },
   "source": [
    "## Encoding\n",
    "\n",
    "Since this text isn't encoded yet, we'll need to do that ourselves. We are going to encode each unique character as a different integer."
   ]
  },
  {
   "cell_type": "code",
   "execution_count": 19,
   "metadata": {
    "button": false,
    "collapsed": true,
    "deletable": true,
    "id": "C7AZNI7aRz6y",
    "new_sheet": false,
    "run_control": {
     "read_only": false
    }
   },
   "outputs": [],
   "source": [
    "# TODO: Look for a better way.\n",
    "vocab = sorted(set(text))\n",
    "\n",
    "# Creating a mapping from unique characters to indices\n",
    "char2idx = {u: i for i, u in enumerate(vocab)}\n",
    "idx2char = np.array(vocab)\n",
    "\n",
    "\n",
    "def text_to_int(text):\n",
    "    \"\"\"\n",
    "    Text to integer\n",
    "    \"\"\"\n",
    "    return np.array([char2idx[c] for c in text])\n",
    "\n",
    "\n",
    "text_as_int = text_to_int(text)"
   ]
  },
  {
   "cell_type": "code",
   "execution_count": 20,
   "metadata": {
    "button": false,
    "colab": {
     "base_uri": "https://localhost:8080/"
    },
    "collapsed": false,
    "deletable": true,
    "id": "_i5kvmX_SLW4",
    "new_sheet": false,
    "outputId": "fdf0bf7c-558d-4547-971f-b957eb3913c5",
    "run_control": {
     "read_only": false
    }
   },
   "outputs": [
    {
     "name": "stdout",
     "output_type": "stream",
     "text": [
      "\n",
      "Text: First Citizen\n",
      "\n",
      "Encoded: [18 47 56 57 58  1 15 47 58 47 64 43 52]\n"
     ]
    }
   ],
   "source": [
    "# Let's look at how part of our text is encoded\n",
    "print(\"\\nText:\", text[:13])\n",
    "print(\"\\nEncoded:\", text_to_int(text[:13]))"
   ]
  },
  {
   "cell_type": "markdown",
   "metadata": {
    "button": false,
    "deletable": true,
    "id": "mDvD5kqTWwOn",
    "new_sheet": false,
    "run_control": {
     "read_only": false
    }
   },
   "source": [
    "Let's make a function that can convert our numeric values to text."
   ]
  },
  {
   "cell_type": "code",
   "execution_count": 21,
   "metadata": {
    "button": false,
    "colab": {
     "base_uri": "https://localhost:8080/",
     "height": 36
    },
    "collapsed": false,
    "deletable": true,
    "id": "Af52YChSW5hX",
    "new_sheet": false,
    "outputId": "8d9a7909-3712-479f-da96-dd4073c60bd1",
    "run_control": {
     "read_only": false
    }
   },
   "outputs": [
    {
     "data": {
      "application/vnd.google.colaboratory.intrinsic+json": {
       "type": "string"
      },
      "text/plain": [
       "'First Citizen'"
      ]
     },
     "execution_count": 21,
     "metadata": {},
     "output_type": "execute_result"
    }
   ],
   "source": [
    "def int_to_text(ints):\n",
    "    \"\"\"\n",
    "    Integer to text\n",
    "    \"\"\"\n",
    "    try:\n",
    "        ints = ints.numpy()\n",
    "    except:\n",
    "        pass\n",
    "    return ''.join(idx2char[ints])\n",
    "\n",
    "\n",
    "int_to_text(text_as_int[:13])"
   ]
  },
  {
   "cell_type": "markdown",
   "metadata": {
    "button": false,
    "deletable": true,
    "id": "T_49cl6uS0r-",
    "new_sheet": false,
    "run_control": {
     "read_only": false
    }
   },
   "source": [
    "## Creating Training Examples\n",
    "\n",
    "Remember our task is to feed the model a sequence and have it return to us the next character. This means we need to split our text data from above into many shorter sequences that we can pass to the model as training examples. \n",
    "\n",
    "The training examples we will prepare will use a *seq_length* sequence as input and a *seq_length* sequence as the output where that sequence is the original sequence shifted one letter to the right. For example:\n",
    "\n",
    "```input: Hell | output: ello```\n",
    "\n",
    "Our first step will be to create a stream of characters from our text data."
   ]
  },
  {
   "cell_type": "code",
   "execution_count": 22,
   "metadata": {
    "button": false,
    "collapsed": true,
    "deletable": true,
    "id": "xBkXz9fjUQHW",
    "new_sheet": false,
    "run_control": {
     "read_only": false
    }
   },
   "outputs": [],
   "source": [
    "seq_length = 100  # length of sequence for a training example\n",
    "examples_per_epoch = len(text) // (seq_length + 1)  # perform integer division\n",
    "\n",
    "# Create training examples / targets\n",
    "char_dataset = tf.data.Dataset.from_tensor_slices(text_as_int)"
   ]
  },
  {
   "cell_type": "markdown",
   "metadata": {
    "button": false,
    "deletable": true,
    "id": "pqmxfT7gVGlr",
    "new_sheet": false,
    "run_control": {
     "read_only": false
    }
   },
   "source": [
    "Next we can use the batch method to turn this stream of characters into batches of desired length."
   ]
  },
  {
   "cell_type": "code",
   "execution_count": 23,
   "metadata": {
    "button": false,
    "collapsed": true,
    "deletable": true,
    "id": "Xi0xaPB_VOJl",
    "new_sheet": false,
    "run_control": {
     "read_only": false
    }
   },
   "outputs": [],
   "source": [
    "# BATCH\n",
    "sequences = char_dataset.batch(seq_length + 1, drop_remainder=True)"
   ]
  },
  {
   "cell_type": "markdown",
   "metadata": {
    "button": false,
    "deletable": true,
    "id": "fxo1Dig_VvV1",
    "new_sheet": false,
    "run_control": {
     "read_only": false
    }
   },
   "source": [
    "Now we need to use these sequences of length 101 and split them into input and output."
   ]
  },
  {
   "cell_type": "code",
   "execution_count": 24,
   "metadata": {
    "button": false,
    "collapsed": true,
    "deletable": true,
    "id": "03zKVHTvV0Km",
    "new_sheet": false,
    "run_control": {
     "read_only": false
    }
   },
   "outputs": [],
   "source": [
    "def split_input_target(chunk):  # for the example: hello\n",
    "    input_text = chunk[:-1]  # hell\n",
    "    target_text = chunk[1:]  # ello\n",
    "    return input_text, target_text  # hell, ello\n",
    "\n",
    "\n",
    "# We use MAP to apply the above function to every entry\n",
    "dataset = sequences.map(split_input_target)"
   ]
  },
  {
   "cell_type": "code",
   "execution_count": 25,
   "metadata": {
    "button": false,
    "colab": {
     "base_uri": "https://localhost:8080/"
    },
    "collapsed": false,
    "deletable": true,
    "id": "9p_y2YmgWbnc",
    "new_sheet": false,
    "outputId": "d32b9e94-a221-4ed4-ddb5-5fd730ceb0cd",
    "run_control": {
     "read_only": false
    }
   },
   "outputs": [
    {
     "name": "stdout",
     "output_type": "stream",
     "text": [
      "\n",
      "\n",
      "EXAMPLE\n",
      "\n",
      "INPUT:\n",
      "First Citizen:\n",
      "Before we proceed any further, hear me speak.\n",
      "\n",
      "All:\n",
      "Speak, speak.\n",
      "\n",
      "First Citizen:\n",
      "You\n",
      "\n",
      "OUTPUT:\n",
      "irst Citizen:\n",
      "Before we proceed any further, hear me speak.\n",
      "\n",
      "All:\n",
      "Speak, speak.\n",
      "\n",
      "First Citizen:\n",
      "You \n",
      "\n",
      "\n",
      "EXAMPLE\n",
      "\n",
      "INPUT:\n",
      "are all resolved rather to die than to famish?\n",
      "\n",
      "All:\n",
      "Resolved. resolved.\n",
      "\n",
      "First Citizen:\n",
      "First, you \n",
      "\n",
      "OUTPUT:\n",
      "re all resolved rather to die than to famish?\n",
      "\n",
      "All:\n",
      "Resolved. resolved.\n",
      "\n",
      "First Citizen:\n",
      "First, you k\n"
     ]
    }
   ],
   "source": [
    "for x, y in dataset.take(2):\n",
    "    print(\"\\n\\nEXAMPLE\\n\")\n",
    "    print(\"INPUT:\")\n",
    "    print(int_to_text(x))\n",
    "    print(\"\\nOUTPUT:\")\n",
    "    print(int_to_text(y))"
   ]
  },
  {
   "cell_type": "markdown",
   "metadata": {
    "button": false,
    "deletable": true,
    "id": "v6OxuFKVXpwK",
    "new_sheet": false,
    "run_control": {
     "read_only": false
    }
   },
   "source": [
    "Finally we need to make training batches."
   ]
  },
  {
   "cell_type": "code",
   "execution_count": 26,
   "metadata": {
    "button": false,
    "collapsed": true,
    "deletable": true,
    "id": "cRsKcjhXXuoD",
    "new_sheet": false,
    "run_control": {
     "read_only": false
    }
   },
   "outputs": [],
   "source": [
    "# MAKE TRAINING BATCHES\n",
    "BATCH_SIZE = 64\n",
    "VOCAB_SIZE = len(vocab)  # number of unique characters\n",
    "EMBEDDING_DIM = 256\n",
    "RNN_UNITS = 1024\n",
    "\n",
    "# Buffer size to shuffle the dataset\n",
    "# (TF data is designed to work with possibly infinite sequences,\n",
    "# so it doesn't attempt to shuffle the entire sequence in memory. Instead,\n",
    "# it maintains a buffer in which it shuffles elements).\n",
    "BUFFER_SIZE = 10000\n",
    "\n",
    "data = dataset.shuffle(BUFFER_SIZE).batch(BATCH_SIZE, drop_remainder=True)\n"
   ]
  },
  {
   "cell_type": "markdown",
   "metadata": {
    "button": false,
    "deletable": true,
    "id": "E6YRmZLtX0d0",
    "new_sheet": false,
    "run_control": {
     "read_only": false
    }
   },
   "source": [
    "## Building the Model\n",
    "\n",
    "Now it is time to build the model. We will use an embedding layer, a LSTM, and one dense layer. The dense layer contains a node for each unique character in our training data. The dense layer will give us a probability distribution over all nodes."
   ]
  },
  {
   "cell_type": "code",
   "execution_count": 27,
   "metadata": {
    "button": false,
    "colab": {
     "base_uri": "https://localhost:8080/"
    },
    "collapsed": false,
    "deletable": true,
    "id": "5v_P2dEic4qt",
    "new_sheet": false,
    "outputId": "23d1ddb8-3854-4071-f8dd-4234c2cd3e64",
    "run_control": {
     "read_only": false
    }
   },
   "outputs": [
    {
     "name": "stdout",
     "output_type": "stream",
     "text": [
      "Model: \"sequential_1\"\n",
      "_________________________________________________________________\n",
      " Layer (type)                Output Shape              Param #   \n",
      "=================================================================\n",
      " embedding_1 (Embedding)     (64, None, 256)           16640     \n",
      "                                                                 \n",
      " lstm_1 (LSTM)               (64, None, 1024)          5246976   \n",
      "                                                                 \n",
      " dense_1 (Dense)             (64, None, 65)            66625     \n",
      "                                                                 \n",
      "=================================================================\n",
      "Total params: 5,330,241\n",
      "Trainable params: 5,330,241\n",
      "Non-trainable params: 0\n",
      "_________________________________________________________________\n"
     ]
    }
   ],
   "source": [
    "def build_model(vocab_size, embedding_dim, rnn_units, batch_size):\n",
    "    \"\"\"\n",
    "    BUILD MODEL\n",
    "    \"\"\"\n",
    "    model = tf.keras.Sequential([\n",
    "        tf.keras.layers.Embedding(vocab_size, embedding_dim,\n",
    "                                  batch_input_shape=[batch_size, None]),\n",
    "        tf.keras.layers.LSTM(rnn_units,\n",
    "                             return_sequences=True,\n",
    "                             stateful=True,\n",
    "                             recurrent_initializer='glorot_uniform'),\n",
    "        tf.keras.layers.Dense(vocab_size)\n",
    "    ])\n",
    "    return model\n",
    "\n",
    "\n",
    "model = build_model(VOCAB_SIZE, EMBEDDING_DIM, RNN_UNITS, BATCH_SIZE)\n",
    "\n",
    "model.summary()\n"
   ]
  },
  {
   "cell_type": "markdown",
   "metadata": {
    "button": false,
    "deletable": true,
    "id": "g_ERM4F15v_S",
    "new_sheet": false,
    "run_control": {
     "read_only": false
    }
   },
   "source": [
    "## Creating a Loss Function\n",
    "\n",
    "Now we are going to create our own loss function for this problem. This is because our model will output a (64, sequence_length, 65) shaped tensor that represents the probability distribution of each character at each time-step for every sequence in the batch. \n",
    "\n",
    "However, before we do that let's have a look at a sample input and the output from our untrained model. So we can understand what the model is giving us."
   ]
  },
  {
   "cell_type": "code",
   "execution_count": 28,
   "metadata": {
    "button": false,
    "colab": {
     "base_uri": "https://localhost:8080/"
    },
    "collapsed": false,
    "deletable": true,
    "id": "KdvEqlwc6_q0",
    "new_sheet": false,
    "outputId": "830622ce-3434-46dd-f026-1a442656c913",
    "run_control": {
     "read_only": false
    }
   },
   "outputs": [
    {
     "name": "stdout",
     "output_type": "stream",
     "text": [
      "(64, 100, 65) # (batch_size, sequence_length, vocab_size)\n"
     ]
    }
   ],
   "source": [
    "for input_example_batch, target_example_batch in data.take(1):\n",
    "    # Ask our model for a prediction on our first batch of training data (64 entries)\n",
    "    example_batch_predictions = model(input_example_batch)\n",
    "    \n",
    "    # Print the output shape\n",
    "    print(example_batch_predictions.shape, \"# (batch_size, sequence_length, vocab_size)\")\n"
   ]
  },
  {
   "cell_type": "code",
   "execution_count": 29,
   "metadata": {
    "button": false,
    "colab": {
     "base_uri": "https://localhost:8080/"
    },
    "collapsed": false,
    "deletable": true,
    "id": "RQS5KXwi7_NX",
    "new_sheet": false,
    "outputId": "5a1a68e0-5cab-4e67-fdc1-5453043a353f",
    "run_control": {
     "read_only": false
    }
   },
   "outputs": [
    {
     "name": "stdout",
     "output_type": "stream",
     "text": [
      "\n",
      "Len: 64\n"
     ]
    }
   ],
   "source": [
    "# We can see that the prediction is an array of 64 arrays, one for each entry in the batch\n",
    "\n",
    "print(\"\\nLen:\", len(example_batch_predictions))\n",
    "\n",
    "# tf.Tensor, shape=(64, 100, 65), dtype=float32)\n",
    "# print(\"\\nPreds:\\n\", example_batch_predictions)"
   ]
  },
  {
   "cell_type": "code",
   "execution_count": 30,
   "metadata": {
    "button": false,
    "colab": {
     "base_uri": "https://localhost:8080/"
    },
    "collapsed": false,
    "deletable": true,
    "id": "sA1Zhop28V9n",
    "new_sheet": false,
    "outputId": "06b5f215-d65c-41a8-ed53-edba677ed64c",
    "run_control": {
     "read_only": false
    }
   },
   "outputs": [
    {
     "name": "stdout",
     "output_type": "stream",
     "text": [
      "\n",
      "Len: 100\n"
     ]
    }
   ],
   "source": [
    "# Examine one prediction\n",
    "pred = example_batch_predictions[0]\n",
    "\n",
    "print(\"\\nLen:\", len(pred))\n",
    "# print(\"\\nPreds:\\n\", pred)  # shape=(100, 65)\n",
    "\n",
    "# Notice this is a 2d array of length 100, where each interior array is the prediction for the next character at each time step\n"
   ]
  },
  {
   "cell_type": "code",
   "execution_count": 31,
   "metadata": {
    "button": false,
    "colab": {
     "base_uri": "https://localhost:8080/"
    },
    "collapsed": false,
    "deletable": true,
    "id": "UbIoe7Ei8q3q",
    "new_sheet": false,
    "outputId": "f7659bbb-0a7d-4c0d-e797-4a3011fe1b8a",
    "run_control": {
     "read_only": false
    }
   },
   "outputs": [
    {
     "name": "stdout",
     "output_type": "stream",
     "text": [
      "\n",
      "Len: 65\n"
     ]
    }
   ],
   "source": [
    "# Finally, we'll look at a prediction at the first timestep\n",
    "time_pred = pred[0]\n",
    "\n",
    "print(\"\\nLen:\", len(time_pred))\n",
    "# print(time_pred)  # tf.Tensor, shape=(65,), dtype=float32)\n",
    "\n",
    "# And of course it's 65 values, representing the probability of each character occurring next\n"
   ]
  },
  {
   "cell_type": "code",
   "execution_count": 32,
   "metadata": {
    "button": false,
    "colab": {
     "base_uri": "https://localhost:8080/",
     "height": 36
    },
    "collapsed": false,
    "deletable": true,
    "id": "qlEYM1H995gR",
    "new_sheet": false,
    "outputId": "8967ffe8-522c-4b73-d9ca-110b630b5195",
    "run_control": {
     "read_only": false
    }
   },
   "outputs": [
    {
     "data": {
      "application/vnd.google.colaboratory.intrinsic+json": {
       "type": "string"
      },
      "text/plain": [
       "'tCkImGfqVTpo\\ngzXKdRV\\nUhL,!M\\nv;DsKNp?usojNOoRftdgk.B-ugGaPQwb\\nZvr Bdw,mPlm.ybHlWPWo;qqzynXsg.nWcee!;J'"
      ]
     },
     "execution_count": 32,
     "metadata": {},
     "output_type": "execute_result"
    }
   ],
   "source": [
    "# If we want to determine the predicted character, we need to sample the output distribution\n",
    "# (pick a value based on probabillity)\n",
    "sampled_indices = tf.random.categorical(pred, num_samples=1)\n",
    "\n",
    "# now we can reshape that array...\n",
    "sampled_indices = np.reshape(sampled_indices, (1, -1))[0]\n",
    "\n",
    "# ...and convert all the integers to numbers to see the actual characters\n",
    "predicted_chars = int_to_text(sampled_indices)\n",
    "\n",
    "# and this is what the model predicted for training sequence 1\n",
    "predicted_chars\n"
   ]
  },
  {
   "cell_type": "markdown",
   "metadata": {
    "button": false,
    "deletable": true,
    "id": "qcCBfPjN9Cnp",
    "new_sheet": false,
    "run_control": {
     "read_only": false
    }
   },
   "source": [
    "So now we need to create a loss function that can compare that output to the expected output and give us some numeric value representing how close the two were."
   ]
  },
  {
   "cell_type": "code",
   "execution_count": 33,
   "metadata": {
    "button": false,
    "collapsed": true,
    "deletable": true,
    "id": "ZOw23fWq9D9O",
    "new_sheet": false,
    "run_control": {
     "read_only": false
    }
   },
   "outputs": [],
   "source": [
    "def loss(labels, logits):\n",
    "    \"\"\"\n",
    "    Custom LOSS FUNCTION\n",
    "    \"\"\"\n",
    "    return tf.keras.losses.sparse_categorical_crossentropy(labels, logits, from_logits=True)"
   ]
  },
  {
   "cell_type": "markdown",
   "metadata": {
    "button": false,
    "deletable": true,
    "id": "kcg75GwXgW81",
    "new_sheet": false,
    "run_control": {
     "read_only": false
    }
   },
   "source": [
    "## Compiling the Model\n",
    "\n",
    "At this point, we can think of our problem as a classification problem where the model predicts the probability of each unique letter coming next."
   ]
  },
  {
   "cell_type": "code",
   "execution_count": 34,
   "metadata": {
    "button": false,
    "collapsed": true,
    "deletable": true,
    "id": "9g6o7zA_hAiS",
    "new_sheet": false,
    "run_control": {
     "read_only": false
    }
   },
   "outputs": [],
   "source": [
    "# Adam optimizer, custom loss function\n",
    "model.compile(optimizer='adam', loss=loss)"
   ]
  },
  {
   "cell_type": "markdown",
   "metadata": {
    "button": false,
    "deletable": true,
    "id": "YgDKr4yvjLPI",
    "new_sheet": false,
    "run_control": {
     "read_only": false
    }
   },
   "source": [
    "## Creating Checkpoints\n",
    "\n",
    "Setup and configure our model to save checkpoints as it trains. This will allow us to load our model from a checkpoint and continue training it."
   ]
  },
  {
   "cell_type": "code",
   "execution_count": 35,
   "metadata": {
    "button": false,
    "collapsed": true,
    "deletable": true,
    "id": "v7aMushYjSpy",
    "new_sheet": false,
    "run_control": {
     "read_only": false
    }
   },
   "outputs": [],
   "source": [
    "# Directory where the checkpoints will be saved\n",
    "checkpoint_dir = './training_checkpoints'\n",
    "\n",
    "# Name of the checkpoint files\n",
    "checkpoint_prefix = os.path.join(checkpoint_dir, \"ckpt_{epoch}\")\n",
    "\n",
    "# CHECKPOINT CALLBACK\n",
    "checkpoint_callback = tf.keras.callbacks.ModelCheckpoint(\n",
    "    filepath=checkpoint_prefix,\n",
    "    save_weights_only=True)\n"
   ]
  },
  {
   "cell_type": "markdown",
   "metadata": {
    "button": false,
    "deletable": true,
    "id": "0p7acPvGja5c",
    "new_sheet": false,
    "run_control": {
     "read_only": false
    }
   },
   "source": [
    "## Training\n",
    "\n",
    "Finally, we will start training the model. \n",
    "\n",
    "**If this is taking a while go to Runtime > Change Runtime Type and choose \"GPU\" under hardware accelerator.**"
   ]
  },
  {
   "cell_type": "code",
   "execution_count": 36,
   "metadata": {
    "button": false,
    "colab": {
     "base_uri": "https://localhost:8080/"
    },
    "collapsed": false,
    "deletable": true,
    "id": "R4PAgrwMjZ4_",
    "new_sheet": false,
    "outputId": "6f43b642-1453-425a-b97c-d4995482f259",
    "run_control": {
     "read_only": false
    }
   },
   "outputs": [
    {
     "name": "stdout",
     "output_type": "stream",
     "text": [
      "Epoch 1/50\n",
      "172/172 [==============================] - 16s 72ms/step - loss: 2.6276\n",
      "Epoch 2/50\n",
      "172/172 [==============================] - 13s 67ms/step - loss: 1.9134\n",
      "Epoch 3/50\n",
      "172/172 [==============================] - 13s 67ms/step - loss: 1.6633\n",
      "Epoch 4/50\n",
      "172/172 [==============================] - 13s 67ms/step - loss: 1.5280\n",
      "Epoch 5/50\n",
      "172/172 [==============================] - 13s 68ms/step - loss: 1.4458\n",
      "Epoch 6/50\n",
      "172/172 [==============================] - 13s 68ms/step - loss: 1.3891\n",
      "Epoch 7/50\n",
      "172/172 [==============================] - 13s 68ms/step - loss: 1.3455\n",
      "Epoch 8/50\n",
      "172/172 [==============================] - 13s 68ms/step - loss: 1.3097\n",
      "Epoch 9/50\n",
      "172/172 [==============================] - 13s 68ms/step - loss: 1.2762\n",
      "Epoch 10/50\n",
      "172/172 [==============================] - 14s 70ms/step - loss: 1.2447\n",
      "Epoch 11/50\n",
      "172/172 [==============================] - 14s 68ms/step - loss: 1.2149\n",
      "Epoch 12/50\n",
      "172/172 [==============================] - 14s 69ms/step - loss: 1.1834\n",
      "Epoch 13/50\n",
      "172/172 [==============================] - 14s 70ms/step - loss: 1.1519\n",
      "Epoch 14/50\n",
      "172/172 [==============================] - 15s 70ms/step - loss: 1.1194\n",
      "Epoch 15/50\n",
      "172/172 [==============================] - 14s 70ms/step - loss: 1.0843\n",
      "Epoch 16/50\n",
      "172/172 [==============================] - 14s 71ms/step - loss: 1.0492\n",
      "Epoch 17/50\n",
      "172/172 [==============================] - 14s 73ms/step - loss: 1.0123\n",
      "Epoch 18/50\n",
      "172/172 [==============================] - 14s 74ms/step - loss: 0.9751\n",
      "Epoch 19/50\n",
      "172/172 [==============================] - 14s 72ms/step - loss: 0.9385\n",
      "Epoch 20/50\n",
      "172/172 [==============================] - 15s 72ms/step - loss: 0.9009\n",
      "Epoch 21/50\n",
      "172/172 [==============================] - 14s 71ms/step - loss: 0.8622\n",
      "Epoch 22/50\n",
      "172/172 [==============================] - 14s 71ms/step - loss: 0.8278\n",
      "Epoch 23/50\n",
      "172/172 [==============================] - 15s 72ms/step - loss: 0.7922\n",
      "Epoch 24/50\n",
      "172/172 [==============================] - 14s 74ms/step - loss: 0.7613\n",
      "Epoch 25/50\n",
      "172/172 [==============================] - 14s 72ms/step - loss: 0.7310\n",
      "Epoch 26/50\n",
      "172/172 [==============================] - 15s 72ms/step - loss: 0.7022\n",
      "Epoch 27/50\n",
      "172/172 [==============================] - 14s 71ms/step - loss: 0.6770\n",
      "Epoch 28/50\n",
      "172/172 [==============================] - 14s 73ms/step - loss: 0.6536\n",
      "Epoch 29/50\n",
      "172/172 [==============================] - 15s 73ms/step - loss: 0.6318\n",
      "Epoch 30/50\n",
      "172/172 [==============================] - 14s 71ms/step - loss: 0.6115\n",
      "Epoch 31/50\n",
      "172/172 [==============================] - 14s 72ms/step - loss: 0.5934\n",
      "Epoch 32/50\n",
      "172/172 [==============================] - 14s 71ms/step - loss: 0.5766\n",
      "Epoch 33/50\n",
      "172/172 [==============================] - 14s 73ms/step - loss: 0.5608\n",
      "Epoch 34/50\n",
      "172/172 [==============================] - 15s 73ms/step - loss: 0.5457\n",
      "Epoch 35/50\n",
      "172/172 [==============================] - 14s 71ms/step - loss: 0.5329\n",
      "Epoch 36/50\n",
      "172/172 [==============================] - 14s 72ms/step - loss: 0.5220\n",
      "Epoch 37/50\n",
      "172/172 [==============================] - 14s 74ms/step - loss: 0.5113\n",
      "Epoch 38/50\n",
      "172/172 [==============================] - 14s 73ms/step - loss: 0.5012\n",
      "Epoch 39/50\n",
      "172/172 [==============================] - 14s 72ms/step - loss: 0.4918\n",
      "Epoch 40/50\n",
      "172/172 [==============================] - 14s 70ms/step - loss: 0.4847\n",
      "Epoch 41/50\n",
      "172/172 [==============================] - 14s 72ms/step - loss: 0.4777\n",
      "Epoch 42/50\n",
      "172/172 [==============================] - 15s 75ms/step - loss: 0.4722\n",
      "Epoch 43/50\n",
      "172/172 [==============================] - 15s 72ms/step - loss: 0.4641\n",
      "Epoch 44/50\n",
      "172/172 [==============================] - 14s 72ms/step - loss: 0.4591\n",
      "Epoch 45/50\n",
      "172/172 [==============================] - 15s 71ms/step - loss: 0.4550\n",
      "Epoch 46/50\n",
      "172/172 [==============================] - 14s 73ms/step - loss: 0.4502\n",
      "Epoch 47/50\n",
      "172/172 [==============================] - 14s 75ms/step - loss: 0.4463\n",
      "Epoch 48/50\n",
      "172/172 [==============================] - 15s 71ms/step - loss: 0.4411\n",
      "Epoch 49/50\n",
      "172/172 [==============================] - 14s 71ms/step - loss: 0.4365\n",
      "Epoch 50/50\n",
      "172/172 [==============================] - 14s 74ms/step - loss: 0.4309\n"
     ]
    }
   ],
   "source": [
    "# epochs=50\n",
    "history = model.fit(data, epochs=50, callbacks=[checkpoint_callback])"
   ]
  },
  {
   "cell_type": "markdown",
   "metadata": {
    "button": false,
    "deletable": true,
    "id": "9GhoHJVtmTsz",
    "new_sheet": false,
    "run_control": {
     "read_only": false
    }
   },
   "source": [
    "## Loading the Model\n",
    "\n",
    "We'll rebuild the model from a checkpoint using a `batch_size` of 1, so that we can feed one piece of text to the model and have it make a prediction."
   ]
  },
  {
   "cell_type": "code",
   "execution_count": 37,
   "metadata": {
    "button": false,
    "collapsed": true,
    "deletable": true,
    "id": "TPSto3uimSKp",
    "new_sheet": false,
    "run_control": {
     "read_only": false
    }
   },
   "outputs": [],
   "source": [
    "model = build_model(VOCAB_SIZE, EMBEDDING_DIM, RNN_UNITS, batch_size=1)"
   ]
  },
  {
   "cell_type": "markdown",
   "metadata": {
    "button": false,
    "deletable": true,
    "id": "boEJvy_vjLJQ",
    "new_sheet": false,
    "run_control": {
     "read_only": false
    }
   },
   "source": [
    "### Weights from latest checkpoint\n",
    "\n",
    "Once the model is finished training, we can find the **latest checkpoint** that stores the models' weights:"
   ]
  },
  {
   "cell_type": "code",
   "execution_count": 38,
   "metadata": {
    "button": false,
    "collapsed": true,
    "deletable": true,
    "id": "PZIEZWE4mNKl",
    "new_sheet": false,
    "run_control": {
     "read_only": false
    }
   },
   "outputs": [],
   "source": [
    "model.load_weights(tf.train.latest_checkpoint(checkpoint_dir))\n",
    "\n",
    "model.build(tf.TensorShape([1, None]))"
   ]
  },
  {
   "cell_type": "markdown",
   "metadata": {
    "button": false,
    "deletable": true,
    "id": "CmPPtbaTKF8d",
    "new_sheet": false,
    "run_control": {
     "read_only": false
    }
   },
   "source": [
    "### Specify checkpoint\n",
    "\n",
    "We can load **any checkpoint** we want by specifying the exact file to load."
   ]
  },
  {
   "cell_type": "code",
   "execution_count": 40,
   "metadata": {
    "button": false,
    "collapsed": true,
    "deletable": true,
    "id": "YQ_5p0ehKFDn",
    "new_sheet": false,
    "run_control": {
     "read_only": false
    }
   },
   "outputs": [],
   "source": [
    "# TODO: Ensure what ever number you put, you've got!\n",
    "# checkpoint_num = 10\n",
    "# model.load_weights(tf.train.load_checkpoint(\"./training_checkpoints/ckpt_\" + str(checkpoint_num)))\n",
    "# model.build(tf.TensorShape([1, None]))"
   ]
  },
  {
   "cell_type": "markdown",
   "metadata": {
    "button": false,
    "deletable": true,
    "id": "KaZWalEeAxQN",
    "new_sheet": false,
    "run_control": {
     "read_only": false
    }
   },
   "source": [
    "## Generating Text\n",
    "\n",
    "Now we can use the lovely function provided by TensorFlow to generate some text using any starting string we'd like."
   ]
  },
  {
   "cell_type": "code",
   "execution_count": 41,
   "metadata": {
    "button": false,
    "collapsed": true,
    "deletable": true,
    "id": "oPSALdQXA3l3",
    "new_sheet": false,
    "run_control": {
     "read_only": false
    }
   },
   "outputs": [],
   "source": [
    "def generate_text(model, start_string):\n",
    "    \"\"\"\n",
    "    Generate text using the learned model (Evaluation step)\n",
    "    \"\"\"\n",
    "    # Number of characters to generate\n",
    "    num_generate = 800\n",
    "\n",
    "    # Converting our start string to numbers (vectorizing)\n",
    "    input_eval = [char2idx[s] for s in start_string]\n",
    "    input_eval = tf.expand_dims(input_eval, 0)\n",
    "\n",
    "    # Empty string to store our results\n",
    "    text_generated = []\n",
    "\n",
    "    # Low temperatures results in more predictable text.\n",
    "    # Higher temperatures results in more surprising text.\n",
    "    # Experiment to find the best setting.\n",
    "    temperature = 1.0\n",
    "\n",
    "    # Here batch size == 1\n",
    "    model.reset_states()\n",
    "    for i in range(num_generate):\n",
    "        predictions = model(input_eval)\n",
    "        # remove the batch dimension\n",
    "\n",
    "        predictions = tf.squeeze(predictions, 0)\n",
    "\n",
    "        # using a categorical distribution to predict the character returned by the model\n",
    "        predictions = predictions / temperature\n",
    "        predicted_id = tf.random.categorical(predictions, num_samples=1)[-1, 0].numpy()\n",
    "\n",
    "        # We pass the predicted character as the next input to the model\n",
    "        # along with the previous hidden state\n",
    "        input_eval = tf.expand_dims([predicted_id], 0)\n",
    "\n",
    "        text_generated.append(idx2char[predicted_id])\n",
    "\n",
    "    return start_string + ''.join(text_generated)\n"
   ]
  },
  {
   "cell_type": "code",
   "execution_count": 42,
   "metadata": {
    "button": false,
    "colab": {
     "base_uri": "https://localhost:8080/"
    },
    "collapsed": false,
    "deletable": true,
    "id": "cAJqhD9AA5mF",
    "new_sheet": false,
    "outputId": "b5b915e7-2737-4abc-9e28-03cecdc46a4c",
    "run_control": {
     "read_only": false
    }
   },
   "outputs": [
    {
     "name": "stdout",
     "output_type": "stream",
     "text": [
      "Type a starting string:She is a bass player\n",
      "She is a bass players;\n",
      "though you owe to hunt.\n",
      "\n",
      "First Citizen:\n",
      "It she so much to them.\n",
      "\n",
      "CORIOLANUS:\n",
      "I' the cisto him, as thou art a tower\n",
      "And the poor foolst inclined starve thus true and supper sent.\n",
      "Richard your kindness quarrelseto of him living,\n",
      "Escepting its and sense;\n",
      "But then i' the mark!--may of bed,\n",
      "And not impatient like himself;\n",
      "And now masters, you would say 'tis name with child.\n",
      "\n",
      "PARIS:\n",
      "The one now Romeo hath not she\n",
      "Romeo:--\n",
      "\n",
      "SICINIUS:\n",
      "Sir, the sense attaind lord?\n",
      "\n",
      "LADY CAPULET:\n",
      "What conn'd by him.'\n",
      "\n",
      "MENENIUS:\n",
      "What's the news with you?\n",
      "\n",
      "POMPEY:\n",
      "Master Barnardine!\n",
      "\n",
      "Post:\n",
      "\n",
      "VOLUMNIA:\n",
      "That's my courage forbid\n",
      "What's in the kind of gessen under points,\n",
      "And blame my humour with flopping them on;\n",
      "And therefore has are--\n",
      "More in thy rocky news?\n",
      "\n",
      "SICINIUS:\n",
      "We will not flatter me.\n",
      "I have served Pur seven!\n"
     ]
    }
   ],
   "source": [
    "inp = input(\"Type a starting string:\")\n",
    "\n",
    "print(generate_text(model, inp))  # She is a bass player\n"
   ]
  },
  {
   "cell_type": "markdown",
   "metadata": {
    "button": false,
    "deletable": true,
    "id": "CBjHrzzyOBVr",
    "new_sheet": false,
    "run_control": {
     "read_only": false
    }
   },
   "source": [
    "*And* that's pretty much it for this module! I highly recommend messing with the model we just created and seeing what you can get it to do!"
   ]
  },
  {
   "cell_type": "markdown",
   "metadata": {
    "button": false,
    "deletable": true,
    "id": "Cw-1eDE54yQo",
    "new_sheet": false,
    "run_control": {
     "read_only": false
    }
   },
   "source": [
    "## Sources\n",
    "\n",
    "1. Chollet François. Deep Learning with Python. Manning Publications Co., 2018.\n",
    "2. \"Text Classification with an RNN &nbsp;: &nbsp; TensorFlow Core.\" TensorFlow, www.tensorflow.org/tutorials/text/text_classification_rnn.\n",
    "3. \"Text Generation with an RNN &nbsp;: &nbsp; TensorFlow Core.\" TensorFlow, www.tensorflow.org/tutorials/text/text_generation.\n",
    "4. \"Understanding LSTM Networks.\" Understanding LSTM Networks -- Colah's Blog, https://colah.github.io/posts/2015-08-Understanding-LSTMs/.\n",
    "5. [TensorFlow with Tim](https://colab.research.google.com/drive/1ysEKrw_LE2jMndo1snrZUh5w87LQsCxk)"
   ]
  },
  {
   "cell_type": "code",
   "execution_count": null,
   "metadata": {
    "button": false,
    "collapsed": true,
    "deletable": true,
    "id": "0z2IUD27S21V",
    "new_sheet": false,
    "run_control": {
     "read_only": false
    }
   },
   "outputs": [],
   "source": []
  }
 ],
 "metadata": {
  "accelerator": "GPU",
  "colab": {
   "provenance": []
  },
  "kernelspec": {
   "display_name": "Python 3",
   "language": "python",
   "name": "python3"
  },
  "language_info": {
   "codemirror_mode": {
    "name": "ipython",
    "version": 3
   },
   "file_extension": ".py",
   "mimetype": "text/x-python",
   "name": "python",
   "nbconvert_exporter": "python",
   "pygments_lexer": "ipython3",
   "version": "3.5.0"
  }
 },
 "nbformat": 4,
 "nbformat_minor": 0
}
