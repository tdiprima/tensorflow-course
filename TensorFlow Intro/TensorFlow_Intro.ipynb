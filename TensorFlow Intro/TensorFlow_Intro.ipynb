{
 "cells": [
  {
   "cell_type": "code",
   "execution_count": 2,
   "id": "d6fc41a8",
   "metadata": {},
   "outputs": [
    {
     "name": "stdout",
     "output_type": "stream",
     "text": [
      "2.11.0\n"
     ]
    }
   ],
   "source": [
    "from warnings import simplefilter\n",
    "\n",
    "import tensorflow as tf\n",
    "\n",
    "# Always a good idea for tensorflow, imo\n",
    "simplefilter(action='ignore', category=FutureWarning)\n",
    "\n",
    "print(tf.__version__)\n"
   ]
  },
  {
   "cell_type": "markdown",
   "id": "3b4d5c91",
   "metadata": {},
   "source": [
    "## Tensors"
   ]
  },
  {
   "cell_type": "code",
   "execution_count": 6,
   "id": "ac375cb2",
   "metadata": {},
   "outputs": [
    {
     "name": "stdout",
     "output_type": "stream",
     "text": [
      "<tf.Variable 'Variable:0' shape=() dtype=string, numpy=b'this is a string'>\n",
      "<tf.Variable 'Variable:0' shape=() dtype=int32, numpy=324>\n",
      "<tf.Variable 'Variable:0' shape=() dtype=float32, numpy=3.567>\n"
     ]
    }
   ],
   "source": [
    "# Creating Resource Variables\n",
    "string = tf.Variable(\"this is a string\", tf.string) \n",
    "number = tf.Variable(324, tf.int16)\n",
    "floating = tf.Variable(3.567, tf.float64)\n",
    "\n",
    "# These tensors have a shape of 0 (rank 0), which means they're a \"scalar\".\n",
    "print(string)\n",
    "print(number)\n",
    "print(floating)\n"
   ]
  },
  {
   "cell_type": "code",
   "execution_count": 7,
   "id": "49f61ccb",
   "metadata": {},
   "outputs": [
    {
     "data": {
      "text/plain": [
       "<tf.Variable 'Variable:0' shape=(1,) dtype=string, numpy=array([b'Test'], dtype=object)>"
      ]
     },
     "execution_count": 7,
     "metadata": {},
     "output_type": "execute_result"
    }
   ],
   "source": [
    "# One list, one array, one dimension; a vector.\n",
    "rank1_tensor = tf.Variable([\"Test\"], tf.string)\n",
    "rank1_tensor"
   ]
  },
  {
   "cell_type": "code",
   "execution_count": 8,
   "id": "01470dd3",
   "metadata": {},
   "outputs": [
    {
     "data": {
      "text/plain": [
       "<tf.Variable 'Variable:0' shape=(2, 2) dtype=string, numpy=\n",
       "array([[b'test', b'ok'],\n",
       "       [b'test', b'yes']], dtype=object)>"
      ]
     },
     "execution_count": 8,
     "metadata": {},
     "output_type": "execute_result"
    }
   ],
   "source": [
    "# Lists inside of a list, a matrix:\n",
    "rank2_tensor = tf.Variable([[\"test\", \"ok\"], [\"test\", \"yes\"]], tf.string)\n",
    "rank2_tensor"
   ]
  },
  {
   "cell_type": "code",
   "execution_count": 10,
   "id": "aabcc0ae",
   "metadata": {},
   "outputs": [
    {
     "data": {
      "text/plain": [
       "<tf.Tensor: shape=(), dtype=int32, numpy=1>"
      ]
     },
     "execution_count": 10,
     "metadata": {},
     "output_type": "execute_result"
    }
   ],
   "source": [
    "# How to get the rank\n",
    "tf.rank(rank1_tensor)\n"
   ]
  },
  {
   "cell_type": "code",
   "execution_count": 11,
   "id": "7800d98a",
   "metadata": {},
   "outputs": [
    {
     "data": {
      "text/plain": [
       "<tf.Tensor: shape=(), dtype=int32, numpy=2>"
      ]
     },
     "execution_count": 11,
     "metadata": {},
     "output_type": "execute_result"
    }
   ],
   "source": [
    "tf.rank(rank2_tensor)"
   ]
  },
  {
   "cell_type": "code",
   "execution_count": 12,
   "id": "2049c1ea",
   "metadata": {},
   "outputs": [
    {
     "data": {
      "text/plain": [
       "<tf.Tensor: shape=(), dtype=int32, numpy=0>"
      ]
     },
     "execution_count": 12,
     "metadata": {},
     "output_type": "execute_result"
    }
   ],
   "source": [
    "tf.rank(number)"
   ]
  },
  {
   "cell_type": "markdown",
   "id": "093a5c94",
   "metadata": {},
   "source": [
    "### Tip!\n",
    "\n",
    "If it says: `Can't convert non-rectangular Python sequence to tensor`, it means you screwed up the number of elements somewhere.\n",
    "\n",
    "## The Shape of Tensors"
   ]
  },
  {
   "cell_type": "code",
   "execution_count": 13,
   "id": "4470553e",
   "metadata": {},
   "outputs": [
    {
     "data": {
      "text/plain": [
       "TensorShape([1])"
      ]
     },
     "execution_count": 13,
     "metadata": {},
     "output_type": "execute_result"
    }
   ],
   "source": [
    "# TENSOR SHAPE\n",
    "rank1_tensor.shape # Because it's a rank 1, we only get 1 number"
   ]
  },
  {
   "cell_type": "code",
   "execution_count": 14,
   "id": "e188078c",
   "metadata": {},
   "outputs": [
    {
     "data": {
      "text/plain": [
       "TensorShape([2, 2])"
      ]
     },
     "execution_count": 14,
     "metadata": {},
     "output_type": "execute_result"
    }
   ],
   "source": [
    "rank2_tensor.shape"
   ]
  },
  {
   "cell_type": "markdown",
   "id": "4215703f",
   "metadata": {},
   "source": [
    "## Changing Shape\n",
    "\n",
    "The number of elements of a tensor is the product of the sizes of all its shapes."
   ]
  },
  {
   "cell_type": "code",
   "execution_count": 15,
   "id": "62900c49",
   "metadata": {},
   "outputs": [
    {
     "data": {
      "text/plain": [
       "TensorShape([1, 2, 3])"
      ]
     },
     "execution_count": 15,
     "metadata": {},
     "output_type": "execute_result"
    }
   ],
   "source": [
    "tensor1 = tf.ones([1, 2, 3])  # tf.ones() creates a shape [1,2,3] tensor full of ones\n",
    "tensor1.shape\n"
   ]
  },
  {
   "cell_type": "code",
   "execution_count": 16,
   "id": "cba637c3",
   "metadata": {},
   "outputs": [
    {
     "data": {
      "text/plain": [
       "TensorShape([2, 3, 1])"
      ]
     },
     "execution_count": 16,
     "metadata": {},
     "output_type": "execute_result"
    }
   ],
   "source": [
    "tensor2 = tf.reshape(tensor1, [2, 3, 1])  # reshape existing data to shape [2,3,1]\n",
    "tensor2.shape\n"
   ]
  },
  {
   "cell_type": "code",
   "execution_count": 18,
   "id": "35316a81",
   "metadata": {},
   "outputs": [
    {
     "data": {
      "text/plain": [
       "TensorShape([3, 2])"
      ]
     },
     "execution_count": 18,
     "metadata": {},
     "output_type": "execute_result"
    }
   ],
   "source": [
    "tensor3 = tf.reshape(tensor2, [3, -1])  # -1 tells the tensor to calculate the size of the dimension in that place\n",
    "# this will reshape the tensor to [3,2]\n",
    "tensor3.shape"
   ]
  },
  {
   "cell_type": "code",
   "execution_count": 19,
   "id": "2d8b5315",
   "metadata": {},
   "outputs": [
    {
     "name": "stdout",
     "output_type": "stream",
     "text": [
      "tensor1: tf.Tensor(\n",
      "[[[1. 1. 1.]\n",
      "  [1. 1. 1.]]], shape=(1, 2, 3), dtype=float32)\n",
      "\n",
      "tensor2: tf.Tensor(\n",
      "[[[1.]\n",
      "  [1.]\n",
      "  [1.]]\n",
      "\n",
      " [[1.]\n",
      "  [1.]\n",
      "  [1.]]], shape=(2, 3, 1), dtype=float32)\n",
      "\n",
      "tensor3: tf.Tensor(\n",
      "[[1. 1.]\n",
      " [1. 1.]\n",
      " [1. 1.]], shape=(3, 2), dtype=float32)\n"
     ]
    }
   ],
   "source": [
    "# The number of elements in the reshaped tensor MUST match the number in the original\n",
    "\n",
    "print(\"tensor1:\", tensor1)\n",
    "print(\"\\ntensor2:\", tensor2)\n",
    "print(\"\\ntensor3:\", tensor3)\n",
    "# Notice the changes in shape\n"
   ]
  },
  {
   "cell_type": "markdown",
   "id": "335ffe1b",
   "metadata": {},
   "source": [
    "## You can skip this if you feel comfortable\n",
    "\n",
    "`tensor1` (1, 2, 3) has 1 interior list, and 2 lists inside of that list, and 3 elements in each of those lists.\n",
    "\n",
    "```json\n",
    "[\n",
    "  [\n",
    "    [1, 1, 1],\n",
    "    [1, 1, 1]\n",
    "  ]\n",
    "]\n",
    "```\n",
    "\n",
    "`tensor2` (2, 3, 1) we have 2 lists, inside of those we have 3 lists, and 1 element inside each of those lists.\n",
    "\n",
    "```json\n",
    "[\n",
    "  [\n",
    "    [1], [1], [1]\n",
    "  ],\n",
    "  [\n",
    "    [1], [1], [1]\n",
    "  ]\n",
    "]\n",
    "```\n",
    "\n",
    "`tensor3` with the `-1` means: let the computer figure it out.\n",
    "\n",
    "3 * 2 = 6\n",
    "\n",
    "(3, 2) means we have 3 lists in there, with 2 things in each list.\n",
    "\n",
    "```json\n",
    "[\n",
    "  [1, 1],\n",
    "  [1, 1],\n",
    "  [1, 1]\n",
    "]\n",
    "```"
   ]
  },
  {
   "cell_type": "markdown",
   "id": "7cd46018",
   "metadata": {},
   "source": [
    "## TensorFlow tensor to ndarray\n",
    "\n",
    "Keep in mind that the NumPy ndarray and the TensorFlow tensor share the same underlying data, so changes to one will affect the other."
   ]
  },
  {
   "cell_type": "code",
   "execution_count": 25,
   "id": "457fa3f1",
   "metadata": {},
   "outputs": [
    {
     "name": "stdout",
     "output_type": "stream",
     "text": [
      "\n",
      "array:\n",
      " [[1 2]\n",
      " [3 4]]\n",
      "\n",
      "dtype: int32\n",
      "\n",
      "shape: (2, 2)\n"
     ]
    }
   ],
   "source": [
    "import tensorflow as tf\n",
    "import numpy as np\n",
    "\n",
    "# create a TensorFlow tensor\n",
    "x = tf.constant([[1, 2], [3, 4]])\n",
    "\n",
    "# convert the tensor to a NumPy ndarray\n",
    "x_np = x.numpy()\n",
    "\n",
    "# print the NumPy ndarray\n",
    "print(\"\\narray:\\n\", x_np)\n",
    "print(\"\\ndtype:\", x_np.dtype)\n",
    "print(\"\\nshape:\", x_np.shape)\n"
   ]
  },
  {
   "cell_type": "code",
   "execution_count": 35,
   "id": "181988c5",
   "metadata": {},
   "outputs": [
    {
     "data": {
      "text/plain": [
       "(2, 2)"
      ]
     },
     "execution_count": 35,
     "metadata": {},
     "output_type": "execute_result"
    }
   ],
   "source": [
    "# So instead of dealing with all this bs, you could just add `.numpy().shape`\n",
    "tf.constant([[1, 2], [3, 4]]).numpy().shape"
   ]
  },
  {
   "cell_type": "markdown",
   "id": "60e62fee",
   "metadata": {},
   "source": [
    "Of course this is before I found out that you can just do `tensor.shape` <span style=\"font-size:27px;\">😋</span>\n",
    "\n",
    "### Create a tensor full of ones"
   ]
  },
  {
   "cell_type": "code",
   "execution_count": 28,
   "id": "b3266255",
   "metadata": {},
   "outputs": [
    {
     "data": {
      "text/plain": [
       "<tf.Tensor: shape=(3, 4), dtype=int32, numpy=\n",
       "array([[1, 1, 1, 1],\n",
       "       [1, 1, 1, 1],\n",
       "       [1, 1, 1, 1]], dtype=int32)>"
      ]
     },
     "execution_count": 28,
     "metadata": {},
     "output_type": "execute_result"
    }
   ],
   "source": [
    "tf.ones([3, 4], tf.int32)"
   ]
  },
  {
   "cell_type": "markdown",
   "id": "36e7ef88",
   "metadata": {},
   "source": [
    "## Slicing Tensors\n",
    "\n",
    "[Tensor Slicing](https://www.tensorflow.org/guide/tensor_slicing)\n",
    "\n",
    "The slice operator can be used on tensors to select specific axes or elements.\n",
    "\n",
    "When working on ML applications such as object detection and NLP, it is sometimes necessary to work with sub-sections (slices) of tensors.\n",
    "\n",
    "Example:"
   ]
  },
  {
   "cell_type": "code",
   "execution_count": 32,
   "id": "6f40033d",
   "metadata": {},
   "outputs": [
    {
     "data": {
      "text/plain": [
       "<tf.Tensor: shape=(3,), dtype=int32, numpy=array([1, 2, 3], dtype=int32)>"
      ]
     },
     "execution_count": 32,
     "metadata": {},
     "output_type": "execute_result"
    }
   ],
   "source": [
    "t1 = tf.constant([0, 1, 2, 3, 4, 5, 6, 7])\n",
    "\n",
    "tf.slice(\n",
    "    t1,\n",
    "    begin=[1],\n",
    "    size=[3]\n",
    ")"
   ]
  },
  {
   "cell_type": "code",
   "execution_count": 34,
   "id": "3420e004",
   "metadata": {},
   "outputs": [
    {
     "name": "stdout",
     "output_type": "stream",
     "text": [
      "\n",
      "rank: tf.Tensor(2, shape=(), dtype=int32)\n",
      "\n",
      "shape: (4, 5)\n"
     ]
    }
   ],
   "source": [
    "# Creating a 2D tensor\n",
    "matrix = [\n",
    "    [1, 2, 3, 4, 5],\n",
    "    [6, 7, 8, 9, 10],\n",
    "    [11, 12, 13, 14, 15],\n",
    "    [16, 17, 18, 19, 20]\n",
    "]\n",
    "\n",
    "tensor = tf.Variable(matrix, dtype=tf.int32)\n",
    "print(\"\\nrank:\", tf.rank(tensor))\n",
    "print(\"\\nshape:\", tensor.shape)\n"
   ]
  },
  {
   "cell_type": "code",
   "execution_count": 36,
   "id": "2d13ade0",
   "metadata": {},
   "outputs": [
    {
     "name": "stdout",
     "output_type": "stream",
     "text": [
      "\n",
      "3rd element: tf.Tensor(3, shape=(), dtype=int32)\n"
     ]
    }
   ],
   "source": [
    "# Let's select some different rows and columns from our tensor\n",
    "\n",
    "three = tensor[0, 2]  # selects the 3rd element from the 1st row\n",
    "print(\"\\n3rd element:\", three)\n"
   ]
  },
  {
   "cell_type": "code",
   "execution_count": 37,
   "id": "4bd18c7f",
   "metadata": {},
   "outputs": [
    {
     "name": "stdout",
     "output_type": "stream",
     "text": [
      "\n",
      "1st row: tf.Tensor([1 2 3 4 5], shape=(5,), dtype=int32)\n"
     ]
    }
   ],
   "source": [
    "row1 = tensor[0]  # selects the first row\n",
    "print(\"\\n1st row:\", row1)\n"
   ]
  },
  {
   "cell_type": "code",
   "execution_count": 38,
   "id": "841f2912",
   "metadata": {},
   "outputs": [
    {
     "name": "stdout",
     "output_type": "stream",
     "text": [
      "\n",
      "1st column: tf.Tensor([ 1  6 11 16], shape=(4,), dtype=int32)\n"
     ]
    }
   ],
   "source": [
    "column1 = tensor[:, 0]  # selects the first column\n",
    "print(\"\\n1st column:\", column1)\n"
   ]
  },
  {
   "cell_type": "code",
   "execution_count": 39,
   "id": "d132b614",
   "metadata": {},
   "outputs": [
    {
     "name": "stdout",
     "output_type": "stream",
     "text": [
      "\n",
      "rows 2 and 4: tf.Tensor(\n",
      "[[ 6  7  8  9 10]\n",
      " [16 17 18 19 20]], shape=(2, 5), dtype=int32)\n"
     ]
    }
   ],
   "source": [
    "row_2_and_4 = tensor[1::2]  # selects second and fourth row (heh?)\n",
    "print(\"\\nrows 2 and 4:\", row_2_and_4)\n"
   ]
  },
  {
   "cell_type": "code",
   "execution_count": 40,
   "id": "82097ef3",
   "metadata": {},
   "outputs": [
    {
     "name": "stdout",
     "output_type": "stream",
     "text": [
      "\n",
      "1st column, rows 2 and 3: tf.Tensor([ 6 11], shape=(2,), dtype=int32)\n"
     ]
    }
   ],
   "source": [
    "column_1_in_row_2_and_3 = tensor[1:3, 0]\n",
    "print(\"\\n1st column, rows 2 and 3:\", column_1_in_row_2_and_3)\n"
   ]
  },
  {
   "cell_type": "markdown",
   "id": "7794f817",
   "metadata": {},
   "source": [
    "## Sources\n",
    "\n",
    "https://www.tensorflow.org/guide/tensor"
   ]
  },
  {
   "cell_type": "code",
   "execution_count": null,
   "id": "6fd3ac2e",
   "metadata": {},
   "outputs": [],
   "source": []
  }
 ],
 "metadata": {
  "kernelspec": {
   "display_name": "Python 3 (ipykernel)",
   "language": "python",
   "name": "python3"
  },
  "language_info": {
   "codemirror_mode": {
    "name": "ipython",
    "version": 3
   },
   "file_extension": ".py",
   "mimetype": "text/x-python",
   "name": "python",
   "nbconvert_exporter": "python",
   "pygments_lexer": "ipython3",
   "version": "3.9.13"
  }
 },
 "nbformat": 4,
 "nbformat_minor": 5
}
